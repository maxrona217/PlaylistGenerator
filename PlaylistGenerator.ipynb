{
 "cells": [
  {
   "cell_type": "code",
   "execution_count": 122,
   "metadata": {},
   "outputs": [],
   "source": [
    "import os\n",
    "import sys\n",
    "import json\n",
    "import spotipy\n",
    "import webbrowser\n",
    "import spotipy.util as util\n",
    "from PyLyrics import *\n",
    "import requests\n",
    "import pprint"
   ]
  },
  {
   "cell_type": "code",
   "execution_count": 17,
   "metadata": {},
   "outputs": [
    {
     "ename": "NameError",
     "evalue": "name 'TOKEN' is not defined",
     "output_type": "error",
     "traceback": [
      "\u001b[0;31m---------------------------------------------------------------------------\u001b[0m",
      "\u001b[0;31mNameError\u001b[0m                                 Traceback (most recent call last)",
      "\u001b[0;32m<ipython-input-17-30418e6c0155>\u001b[0m in \u001b[0;36m<module>\u001b[0;34m()\u001b[0m\n\u001b[1;32m      1\u001b[0m \u001b[0murl\u001b[0m \u001b[0;34m=\u001b[0m \u001b[0;34m\"https://api.spotify.com/v1/me/tracks\"\u001b[0m\u001b[0;34m\u001b[0m\u001b[0m\n\u001b[0;32m----> 2\u001b[0;31m \u001b[0mheaders\u001b[0m \u001b[0;34m=\u001b[0m \u001b[0;34m{\u001b[0m\u001b[0;34m'Authorization'\u001b[0m\u001b[0;34m:\u001b[0m \u001b[0;34m\"Bearer {}\"\u001b[0m\u001b[0;34m.\u001b[0m\u001b[0mformat\u001b[0m\u001b[0;34m(\u001b[0m\u001b[0mTOKEN\u001b[0m\u001b[0;34m)\u001b[0m\u001b[0;34m}\u001b[0m\u001b[0;34m\u001b[0m\u001b[0m\n\u001b[0m\u001b[1;32m      3\u001b[0m \u001b[0mr\u001b[0m \u001b[0;34m=\u001b[0m \u001b[0mrequests\u001b[0m\u001b[0;34m.\u001b[0m\u001b[0mget\u001b[0m\u001b[0;34m(\u001b[0m\u001b[0murl\u001b[0m\u001b[0;34m,\u001b[0m \u001b[0mheaders\u001b[0m\u001b[0;34m=\u001b[0m\u001b[0mheaders\u001b[0m\u001b[0;34m)\u001b[0m\u001b[0;34m\u001b[0m\u001b[0m\n\u001b[1;32m      4\u001b[0m \u001b[0mparsed\u001b[0m \u001b[0;34m=\u001b[0m \u001b[0mjson\u001b[0m\u001b[0;34m.\u001b[0m\u001b[0mloads\u001b[0m\u001b[0;34m(\u001b[0m\u001b[0mr\u001b[0m\u001b[0;34m.\u001b[0m\u001b[0mtext\u001b[0m\u001b[0;34m)\u001b[0m\u001b[0;34m\u001b[0m\u001b[0m\n",
      "\u001b[0;31mNameError\u001b[0m: name 'TOKEN' is not defined"
     ]
    }
   ],
   "source": [
    "url = \"https://api.spotify.com/v1/me/tracks\"\n",
    "headers = {'Authorization': \"Bearer {}\".format(TOKEN)}\n",
    "r = requests.get(url, headers=headers)\n",
    "parsed = json.loads(r.text)"
   ]
  },
  {
   "cell_type": "code",
   "execution_count": 16,
   "metadata": {},
   "outputs": [],
   "source": [
    "username = \"mrona217\"\n"
   ]
  },
  {
   "cell_type": "code",
   "execution_count": 29,
   "metadata": {},
   "outputs": [],
   "source": [
    "token = requests.get(\"https://accounts.spotify.com/authorize?client_id=a08813fb90e74b8ba655c505bf040cea&redirect_uri=http://google.com/\")"
   ]
  },
  {
   "cell_type": "code",
   "execution_count": 27,
   "metadata": {},
   "outputs": [
    {
     "ename": "SyntaxError",
     "evalue": "unexpected EOF while parsing (<ipython-input-27-a766b1913451>, line 1)",
     "output_type": "error",
     "traceback": [
      "\u001b[0;36m  File \u001b[0;32m\"<ipython-input-27-a766b1913451>\"\u001b[0;36m, line \u001b[0;32m1\u001b[0m\n\u001b[0;31m    print(json.dumps(len(token.text, sort_keys=True, indent=4))\u001b[0m\n\u001b[0m                                                               ^\u001b[0m\n\u001b[0;31mSyntaxError\u001b[0m\u001b[0;31m:\u001b[0m unexpected EOF while parsing\n"
     ]
    }
   ],
   "source": [
    "print(json.dumps(len(token.text, sort_keys=True, indent=4))"
   ]
  },
  {
   "cell_type": "code",
   "execution_count": 119,
   "metadata": {},
   "outputs": [],
   "source": [
    "spotify2 = spotipy.client.Spotify(auth = 'BQByBsOAMHgeYJgbLBepUudyh4YPZu33rSQ7qrsq3d2vDTvtGkZrA_aA4IM1FpuUPzP-9pEZhWFrTJxTVpPb7moFLHRB-VJSke_vqPmxetPfjj0AzW_BkQqh_JrWG-kdQqSXPLku9nB5yBEfhA')"
   ]
  },
  {
   "cell_type": "code",
   "execution_count": 30,
   "metadata": {},
   "outputs": [],
   "source": [
    "spotify = spotipy.Spotify(auth='BQByBsOAMHgeYJgbLBepUudyh4YPZu33rSQ7qrsq3d2vDTvtGkZrA_aA4IM1FpuUPzP-9pEZhWFrTJxTVpPb7moFLHRB-VJSke_vqPmxetPfjj0AzW_BkQqh_JrWG-kdQqSXPLku9nB5yBEfhA')"
   ]
  },
  {
   "cell_type": "code",
   "execution_count": 98,
   "metadata": {},
   "outputs": [],
   "source": [
    "results = spotify.search(q='artist:zdsfksadjfkdlsjfas', type='artist', limit=50, offset=100)"
   ]
  },
  {
   "cell_type": "code",
   "execution_count": 99,
   "metadata": {
    "scrolled": false
   },
   "outputs": [
    {
     "data": {
      "text/plain": [
       "[]"
      ]
     },
     "execution_count": 99,
     "metadata": {},
     "output_type": "execute_result"
    }
   ],
   "source": [
    "list(map(lambda x: str(x['name']), results['artists']['items']))"
   ]
  },
  {
   "cell_type": "code",
   "execution_count": 43,
   "metadata": {},
   "outputs": [],
   "source": [
    "def clean(x):\n",
    "    return(json.dumps(x, sort_keys=True, indent=4))"
   ]
  },
  {
   "cell_type": "code",
   "execution_count": 101,
   "metadata": {},
   "outputs": [
    {
     "name": "stdout",
     "output_type": "stream",
     "text": [
      "0\n",
      "1\n",
      "2\n",
      "3\n",
      "4\n",
      "5\n"
     ]
    }
   ],
   "source": [
    "a = []\n",
    "i = 0\n",
    "while True:\n",
    "    print(i)\n",
    "    results = spotify.search(q='artist:*', type='artist', limit=50, offset=50*i)\n",
    "    if(len(results['artists']['items']) <= 0):\n",
    "        break\n",
    "    a += list(map(lambda x: x['name'], results['artists']['items']))\n",
    "    i += 1"
   ]
  },
  {
   "cell_type": "code",
   "execution_count": 73,
   "metadata": {},
   "outputs": [],
   "source": [
    "results = spotify.search(q='artist:a', type='artist', limit=50, offset=150)"
   ]
  },
  {
   "cell_type": "code",
   "execution_count": 87,
   "metadata": {},
   "outputs": [
    {
     "data": {
      "text/plain": [
       "'A-One'"
      ]
     },
     "execution_count": 87,
     "metadata": {},
     "output_type": "execute_result"
    }
   ],
   "source": [
    "str(results['artists']['items'][5]['name'])"
   ]
  },
  {
   "cell_type": "code",
   "execution_count": 102,
   "metadata": {},
   "outputs": [
    {
     "data": {
      "text/plain": [
       "206"
      ]
     },
     "execution_count": 102,
     "metadata": {},
     "output_type": "execute_result"
    }
   ],
   "source": [
    "len(a)"
   ]
  },
  {
   "cell_type": "code",
   "execution_count": 96,
   "metadata": {},
   "outputs": [
    {
     "ename": "UnicodeEncodeError",
     "evalue": "'ascii' codec can't encode character u'\\u2019' in position 4: ordinal not in range(128)",
     "output_type": "error",
     "traceback": [
      "\u001b[0;31m---------------------------------------------------------------------------\u001b[0m",
      "\u001b[0;31mUnicodeEncodeError\u001b[0m                        Traceback (most recent call last)",
      "\u001b[0;32m<ipython-input-96-364aa64c2b00>\u001b[0m in \u001b[0;36m<module>\u001b[0;34m()\u001b[0m\n\u001b[0;32m----> 1\u001b[0;31m \u001b[0mlist\u001b[0m\u001b[0;34m(\u001b[0m\u001b[0mmap\u001b[0m\u001b[0;34m(\u001b[0m\u001b[0mstr\u001b[0m\u001b[0;34m,\u001b[0m \u001b[0ma\u001b[0m\u001b[0;34m)\u001b[0m\u001b[0;34m)\u001b[0m\u001b[0;34m\u001b[0m\u001b[0m\n\u001b[0m",
      "\u001b[0;31mUnicodeEncodeError\u001b[0m: 'ascii' codec can't encode character u'\\u2019' in position 4: ordinal not in range(128)"
     ]
    }
   ],
   "source": [
    "list(map(str, a))"
   ]
  },
  {
   "cell_type": "code",
   "execution_count": 106,
   "metadata": {},
   "outputs": [
    {
     "name": "stdout",
     "output_type": "stream",
     "text": [
      "0\n",
      "1\n",
      "2\n",
      "3\n",
      "4\n",
      "5\n",
      "6\n",
      "7\n",
      "8\n",
      "9\n"
     ]
    }
   ],
   "source": [
    "a = []\n",
    "for i in range(0,10):\n",
    "    print(i)\n",
    "    results = spotify.search(q='artist:?', type='artist', limit=50, offset=50*i)\n",
    "    a += list(map(lambda x: x['name'], results['artists']['items']))"
   ]
  },
  {
   "cell_type": "code",
   "execution_count": 107,
   "metadata": {},
   "outputs": [
    {
     "data": {
      "text/plain": [
       "[]"
      ]
     },
     "execution_count": 107,
     "metadata": {},
     "output_type": "execute_result"
    }
   ],
   "source": [
    "a"
   ]
  },
  {
   "cell_type": "code",
   "execution_count": 114,
   "metadata": {},
   "outputs": [
    {
     "ename": "AttributeError",
     "evalue": "'Spotify' object has no attribute 'next_track'",
     "output_type": "error",
     "traceback": [
      "\u001b[0;31m---------------------------------------------------------------------------\u001b[0m",
      "\u001b[0;31mAttributeError\u001b[0m                            Traceback (most recent call last)",
      "\u001b[0;32m<ipython-input-114-854b5aec18ad>\u001b[0m in \u001b[0;36m<module>\u001b[0;34m()\u001b[0m\n\u001b[0;32m----> 1\u001b[0;31m \u001b[0mspotify\u001b[0m\u001b[0;34m.\u001b[0m\u001b[0mnext_track\u001b[0m\u001b[0;34m(\u001b[0m\u001b[0;34m)\u001b[0m\u001b[0;34m\u001b[0m\u001b[0m\n\u001b[0m",
      "\u001b[0;31mAttributeError\u001b[0m: 'Spotify' object has no attribute 'next_track'"
     ]
    }
   ],
   "source": [
    "spotify.next_track()"
   ]
  },
  {
   "cell_type": "code",
   "execution_count": 121,
   "metadata": {},
   "outputs": [
    {
     "data": {
      "text/plain": [
       "{u'external_urls': {u'spotify': u'https://open.spotify.com/artist/7Ln80lUS6He07XvHI8qqHH'},\n",
       " u'followers': {u'href': None, u'total': 6454653},\n",
       " u'genres': [u'garage rock',\n",
       "  u'indie rock',\n",
       "  u'modern rock',\n",
       "  u'permanent wave',\n",
       "  u'rock',\n",
       "  u'sheffield indie'],\n",
       " u'href': u'https://api.spotify.com/v1/artists/7Ln80lUS6He07XvHI8qqHH',\n",
       " u'id': u'7Ln80lUS6He07XvHI8qqHH',\n",
       " u'images': [{u'height': 640,\n",
       "   u'url': u'https://i.scdn.co/image/ed0552e9746ed2bbf04ae4bcb5525700ca31522d',\n",
       "   u'width': 640},\n",
       "  {u'height': 320,\n",
       "   u'url': u'https://i.scdn.co/image/b435e99aa7f1e27db56b6a4dc9df85e5636b22d6',\n",
       "   u'width': 320},\n",
       "  {u'height': 160,\n",
       "   u'url': u'https://i.scdn.co/image/73c4e49abed008fe0c5e4f1437b8b486c7670ecd',\n",
       "   u'width': 160}],\n",
       " u'name': u'Arctic Monkeys',\n",
       " u'popularity': 83,\n",
       " u'type': u'artist',\n",
       " u'uri': u'spotify:artist:7Ln80lUS6He07XvHI8qqHH'}"
      ]
     },
     "execution_count": 121,
     "metadata": {},
     "output_type": "execute_result"
    }
   ],
   "source": [
    "spotify2.artist('7Ln80lUS6He07XvHI8qqHH')"
   ]
  },
  {
   "cell_type": "code",
   "execution_count": 125,
   "metadata": {},
   "outputs": [
    {
     "name": "stdout",
     "output_type": "stream",
     "text": [
      "{\n",
      "    \"external_urls\": {\n",
      "        \"spotify\": \"https://open.spotify.com/artist/7Ln80lUS6He07XvHI8qqHH\"\n",
      "    }, \n",
      "    \"followers\": {\n",
      "        \"href\": null, \n",
      "        \"total\": 6454662\n",
      "    }, \n",
      "    \"genres\": [\n",
      "        \"garage rock\", \n",
      "        \"indie rock\", \n",
      "        \"modern rock\", \n",
      "        \"permanent wave\", \n",
      "        \"rock\", \n",
      "        \"sheffield indie\"\n",
      "    ], \n",
      "    \"href\": \"https://api.spotify.com/v1/artists/7Ln80lUS6He07XvHI8qqHH\", \n",
      "    \"id\": \"7Ln80lUS6He07XvHI8qqHH\", \n",
      "    \"images\": [\n",
      "        {\n",
      "            \"height\": 640, \n",
      "            \"url\": \"https://i.scdn.co/image/ed0552e9746ed2bbf04ae4bcb5525700ca31522d\", \n",
      "            \"width\": 640\n",
      "        }, \n",
      "        {\n",
      "            \"height\": 320, \n",
      "            \"url\": \"https://i.scdn.co/image/b435e99aa7f1e27db56b6a4dc9df85e5636b22d6\", \n",
      "            \"width\": 320\n",
      "        }, \n",
      "        {\n",
      "            \"height\": 160, \n",
      "            \"url\": \"https://i.scdn.co/image/73c4e49abed008fe0c5e4f1437b8b486c7670ecd\", \n",
      "            \"width\": 160\n",
      "        }\n",
      "    ], \n",
      "    \"name\": \"Arctic Monkeys\", \n",
      "    \"popularity\": 83, \n",
      "    \"type\": \"artist\", \n",
      "    \"uri\": \"spotify:artist:7Ln80lUS6He07XvHI8qqHH\"\n",
      "}\n"
     ]
    }
   ],
   "source": [
    "print(clean(spotify2.artist('7Ln80lUS6He07XvHI8qqHH')))"
   ]
  },
  {
   "cell_type": "code",
   "execution_count": null,
   "metadata": {},
   "outputs": [],
   "source": []
  }
 ],
 "metadata": {
  "kernelspec": {
   "display_name": "Python 3",
   "language": "python",
   "name": "python3"
  },
  "language_info": {
   "codemirror_mode": {
    "name": "ipython",
    "version": 2
   },
   "file_extension": ".py",
   "mimetype": "text/x-python",
   "name": "python",
   "nbconvert_exporter": "python",
   "pygments_lexer": "ipython2",
   "version": "2.7.15"
  }
 },
 "nbformat": 4,
 "nbformat_minor": 2
}
